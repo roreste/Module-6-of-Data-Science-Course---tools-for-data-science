{
  "metadata": {
    "kernelspec": {
      "name": "python",
      "display_name": "Python (Pyodide)",
      "language": "python"
    },
    "language_info": {
      "codemirror_mode": {
        "name": "python",
        "version": 3
      },
      "file_extension": ".py",
      "mimetype": "text/x-python",
      "name": "python",
      "nbconvert_exporter": "python",
      "pygments_lexer": "ipython3",
      "version": "3.8"
    }
  },
  "nbformat_minor": 4,
  "nbformat": 4,
  "cells": [
    {
      "cell_type": "markdown",
      "source": "# Graded Task Roberto Oreste Module 6 Data Science Course - tools for data science.",
      "metadata": {}
    },
    {
      "cell_type": "markdown",
      "source": "# Introduction  \nNext, the points requested in the Module 6 of Data Science Course - tools for data science task will be carried out.",
      "metadata": {}
    },
    {
      "cell_type": "markdown",
      "source": "# Data Science Languages  \n- Scala  \n- Java  \n- Julia  \n- SQL  \n- R  \n- Python",
      "metadata": {}
    },
    {
      "cell_type": "markdown",
      "source": "# Data Science Libraries  \n- TensorFlow  \n- Scikit-learn  \n- Seaborn  \n- Matplotlib  \n- NumPy  \n- Pandas",
      "metadata": {}
    },
    {
      "cell_type": "markdown",
      "source": "# Data Science Tools  \n\n| Tool           | Description                     |\n|----------------|---------------------------------|\n| TensorFlow     | Machine learning library        |\n| Apache Spark   | Big data processing framework   |\n| RStudio        | IDE for R programming           |\n| Jupyter        | Interactive notebook interface |",
      "metadata": {}
    },
    {
      "cell_type": "markdown",
      "source": "# Arithmetic Expressions Examples  \n- 10 + 9 = 19  \n- 4 * 8 = 32\n- 32 / 8 = 4\n- 33 - 32 = 1",
      "metadata": {}
    },
    {
      "cell_type": "code",
      "source": "# Multiplication and addition\nresult = (9 * 9) + 19\nprint(f\"The result is: {result}\")",
      "metadata": {
        "trusted": true
      },
      "outputs": [
        {
          "name": "stdout",
          "text": "The result is: 100\n",
          "output_type": "stream"
        }
      ],
      "execution_count": 4
    },
    {
      "cell_type": "code",
      "source": "# Convert minutes to hours\nminutes = 360\nhours = minutes / 60\nprint(f\"{minutes} minutes is equal to {hours} hours\")",
      "metadata": {
        "trusted": true
      },
      "outputs": [
        {
          "name": "stdout",
          "text": "360 minutes is equal to 6.0 hours\n",
          "output_type": "stream"
        }
      ],
      "execution_count": 3
    },
    {
      "cell_type": "code",
      "source": "# List objectives\nobjectives = [\"Aplicate libraries and tools\", \n              \"Display arithmetic operations\"]\nprint(\"Objectives:\", objectives)",
      "metadata": {
        "trusted": true
      },
      "outputs": [
        {
          "name": "stdout",
          "text": "Objectives: ['Aplicate libraries and tools', 'Display arithmetic operations']\n",
          "output_type": "stream"
        }
      ],
      "execution_count": 6
    },
    {
      "cell_type": "markdown",
      "source": "# Author  \nThis notebook was created by Roberto Oreste.\n",
      "metadata": {}
    },
    {
      "cell_type": "code",
      "source": "",
      "metadata": {
        "trusted": true
      },
      "outputs": [],
      "execution_count": null
    }
  ]
}